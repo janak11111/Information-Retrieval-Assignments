{
 "cells": [
  {
   "cell_type": "code",
   "execution_count": 1,
   "id": "b13c2fff",
   "metadata": {},
   "outputs": [],
   "source": [
    "# import libraries\n",
    "import os\n",
    "from bs4 import BeautifulSoup\n",
    "import os, re\n",
    "import pickle\n",
    "import nltk\n",
    "from nltk.tokenize import word_tokenize\n",
    "from nltk.corpus import stopwords"
   ]
  },
  {
   "cell_type": "code",
   "execution_count": 2,
   "id": "9047ddd6",
   "metadata": {},
   "outputs": [],
   "source": [
    "# function to preprocessing input queries\n",
    "def query_preprocessing(text):\n",
    "    text_lower = text.lower()\n",
    "    tokens = word_tokenize(text_lower)\n",
    "    stop_words = set(stopwords.words('english'))\n",
    "    stopword_removed = [token for token in tokens if token not in stop_words]\n",
    "    preprocessed_text = [token for token in stopword_removed if token.isalnum()]\n",
    "    return \" \".join(preprocessed_text)"
   ]
  },
  {
   "cell_type": "code",
   "execution_count": 3,
   "id": "88e6f15c",
   "metadata": {},
   "outputs": [
    {
     "name": "stdout",
     "output_type": "stream",
     "text": [
      "enter the query :  player at boundary missed simple catch during cricket match\n",
      "\n",
      "player boundary missed simple catch cricket match\n"
     ]
    }
   ],
   "source": [
    "# take user input of query and preprocessed it\n",
    "query = input(\"enter the query : \")\n",
    "preprocessed_query = query_preprocessing(query)\n",
    "print()\n",
    "print(preprocessed_query)\n",
    "# player at boundary missed simple catch during cricket match"
   ]
  },
  {
   "cell_type": "code",
   "execution_count": 4,
   "id": "1eaa2a06",
   "metadata": {},
   "outputs": [],
   "source": [
    "# find list of all the docs\n",
    "files = os.listdir(\"./dataset_preprocessed/\")\n",
    "jaccard_sim = dict.fromkeys(files, 0)\n",
    "\n",
    "# compare the query and each doc for jaccard similarity\n",
    "for file in files:\n",
    "    content = open(\"./dataset_preprocessed/{}\".format(file)).read().split()\n",
    "    unique_words = set(content)\n",
    "    query_words = set(query.split())\n",
    "    intersection = len(unique_words.intersection(query_words))\n",
    "    union = len(unique_words.union(query_words))\n",
    "    jaccard_coeff = intersection / union\n",
    "    jaccard_sim[file] = jaccard_coeff"
   ]
  },
  {
   "cell_type": "code",
   "execution_count": 5,
   "id": "16526c09",
   "metadata": {},
   "outputs": [
    {
     "name": "stdout",
     "output_type": "stream",
     "text": [
      "cranfield0003 0.09090909090909091\n",
      "cranfield0291 0.05128205128205128\n",
      "cranfield0324 0.05128205128205128\n",
      "cranfield0320 0.047619047619047616\n",
      "cranfield0336 0.044444444444444446\n",
      "cranfield1311 0.044444444444444446\n",
      "cranfield0652 0.043478260869565216\n",
      "cranfield0648 0.0425531914893617\n",
      "cranfield0359 0.0392156862745098\n",
      "cranfield0343 0.037037037037037035\n"
     ]
    }
   ],
   "source": [
    "# take top 10 jaccard ranked docs as result\n",
    "result = sorted(jaccard_sim.items(), reverse=True, key=lambda x: x[1])[:10]\n",
    "for doc, coeff in result:\n",
    "    print(doc, coeff)"
   ]
  }
 ],
 "metadata": {
  "kernelspec": {
   "display_name": "Python 3 (ipykernel)",
   "language": "python",
   "name": "python3"
  },
  "language_info": {
   "codemirror_mode": {
    "name": "ipython",
    "version": 3
   },
   "file_extension": ".py",
   "mimetype": "text/x-python",
   "name": "python",
   "nbconvert_exporter": "python",
   "pygments_lexer": "ipython3",
   "version": "3.10.9"
  }
 },
 "nbformat": 4,
 "nbformat_minor": 5
}
